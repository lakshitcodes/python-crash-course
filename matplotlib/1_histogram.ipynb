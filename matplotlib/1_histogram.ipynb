{
 "cells": [
  {
   "cell_type": "code",
   "execution_count": 1,
   "id": "240ebeb6-572d-4553-9887-9d7013ec54aa",
   "metadata": {},
   "outputs": [
    {
     "name": "stderr",
     "output_type": "stream",
     "text": [
      "Matplotlib is building the font cache; this may take a moment.\n"
     ]
    },
    {
     "data": {
      "text/html": [
       "<div>\n",
       "<style scoped>\n",
       "    .dataframe tbody tr th:only-of-type {\n",
       "        vertical-align: middle;\n",
       "    }\n",
       "\n",
       "    .dataframe tbody tr th {\n",
       "        vertical-align: top;\n",
       "    }\n",
       "\n",
       "    .dataframe thead th {\n",
       "        text-align: right;\n",
       "    }\n",
       "</style>\n",
       "<table border=\"1\" class=\"dataframe\">\n",
       "  <thead>\n",
       "    <tr style=\"text-align: right;\">\n",
       "      <th></th>\n",
       "      <th>Mon</th>\n",
       "      <th>Tues</th>\n",
       "      <th>Wed</th>\n",
       "      <th>Thurs</th>\n",
       "    </tr>\n",
       "  </thead>\n",
       "  <tbody>\n",
       "    <tr>\n",
       "      <th>0</th>\n",
       "      <td>0.047099</td>\n",
       "      <td>-0.816415</td>\n",
       "      <td>0.382920</td>\n",
       "      <td>1.669002</td>\n",
       "    </tr>\n",
       "    <tr>\n",
       "      <th>1</th>\n",
       "      <td>0.202224</td>\n",
       "      <td>0.354525</td>\n",
       "      <td>0.741278</td>\n",
       "      <td>1.280594</td>\n",
       "    </tr>\n",
       "    <tr>\n",
       "      <th>2</th>\n",
       "      <td>-0.702077</td>\n",
       "      <td>2.527997</td>\n",
       "      <td>-0.464434</td>\n",
       "      <td>-0.276712</td>\n",
       "    </tr>\n",
       "    <tr>\n",
       "      <th>3</th>\n",
       "      <td>0.369584</td>\n",
       "      <td>1.717237</td>\n",
       "      <td>0.601684</td>\n",
       "      <td>-0.873255</td>\n",
       "    </tr>\n",
       "    <tr>\n",
       "      <th>4</th>\n",
       "      <td>0.074756</td>\n",
       "      <td>-1.602202</td>\n",
       "      <td>0.163047</td>\n",
       "      <td>-0.300792</td>\n",
       "    </tr>\n",
       "    <tr>\n",
       "      <th>...</th>\n",
       "      <td>...</td>\n",
       "      <td>...</td>\n",
       "      <td>...</td>\n",
       "      <td>...</td>\n",
       "    </tr>\n",
       "    <tr>\n",
       "      <th>95</th>\n",
       "      <td>-0.736483</td>\n",
       "      <td>0.405505</td>\n",
       "      <td>-0.772144</td>\n",
       "      <td>0.223165</td>\n",
       "    </tr>\n",
       "    <tr>\n",
       "      <th>96</th>\n",
       "      <td>0.608038</td>\n",
       "      <td>0.246906</td>\n",
       "      <td>0.560078</td>\n",
       "      <td>2.331227</td>\n",
       "    </tr>\n",
       "    <tr>\n",
       "      <th>97</th>\n",
       "      <td>0.329261</td>\n",
       "      <td>-0.657202</td>\n",
       "      <td>-0.906076</td>\n",
       "      <td>0.982680</td>\n",
       "    </tr>\n",
       "    <tr>\n",
       "      <th>98</th>\n",
       "      <td>0.794105</td>\n",
       "      <td>-2.198710</td>\n",
       "      <td>0.878241</td>\n",
       "      <td>0.216399</td>\n",
       "    </tr>\n",
       "    <tr>\n",
       "      <th>99</th>\n",
       "      <td>-1.804526</td>\n",
       "      <td>0.177030</td>\n",
       "      <td>2.030819</td>\n",
       "      <td>-0.756016</td>\n",
       "    </tr>\n",
       "  </tbody>\n",
       "</table>\n",
       "<p>100 rows × 4 columns</p>\n",
       "</div>"
      ],
      "text/plain": [
       "         Mon      Tues       Wed     Thurs\n",
       "0   0.047099 -0.816415  0.382920  1.669002\n",
       "1   0.202224  0.354525  0.741278  1.280594\n",
       "2  -0.702077  2.527997 -0.464434 -0.276712\n",
       "3   0.369584  1.717237  0.601684 -0.873255\n",
       "4   0.074756 -1.602202  0.163047 -0.300792\n",
       "..       ...       ...       ...       ...\n",
       "95 -0.736483  0.405505 -0.772144  0.223165\n",
       "96  0.608038  0.246906  0.560078  2.331227\n",
       "97  0.329261 -0.657202 -0.906076  0.982680\n",
       "98  0.794105 -2.198710  0.878241  0.216399\n",
       "99 -1.804526  0.177030  2.030819 -0.756016\n",
       "\n",
       "[100 rows x 4 columns]"
      ]
     },
     "execution_count": 1,
     "metadata": {},
     "output_type": "execute_result"
    }
   ],
   "source": [
    "import pandas as pd \n",
    "import numpy as np\n",
    "from numpy.random import randn\n",
    "%matplotlib inline\n",
    "\n",
    "# Create a dataframe\n",
    "my_df = pd.DataFrame(randn(100,4),columns=['Mon','Tues','Wed','Thurs'])\n",
    "my_df"
   ]
  },
  {
   "cell_type": "code",
   "execution_count": 2,
   "id": "069712b0-f2a9-452f-a6c7-c61feebf9aac",
   "metadata": {},
   "outputs": [
    {
     "data": {
      "text/plain": [
       "<Axes: >"
      ]
     },
     "execution_count": 2,
     "metadata": {},
     "output_type": "execute_result"
    },
    {
     "data": {
      "image/png": "[encoded data removed]",
      "text/plain": [
       "<Figure size 640x480 with 1 Axes>"
      ]
     },
     "metadata": {},
     "output_type": "display_data"
    }
   ],
   "source": [
    "# Histogram\n",
    "my_df['Wed'].hist()"
   ]
  },
  {
   "cell_type": "code",
   "execution_count": 3,
   "id": "bf3a2c93-927d-42d0-a0f4-6864b1aebb31",
   "metadata": {},
   "outputs": [
    {
     "data": {
      "text/plain": [
       "<Axes: >"
      ]
     },
     "execution_count": 3,
     "metadata": {},
     "output_type": "execute_result"
    },
    {
     "data": {
      "image/png": "[encoded data removed]",
      "text/plain": [
       "<Figure size 640x480 with 1 Axes>"
      ]
     },
     "metadata": {},
     "output_type": "display_data"
    }
   ],
   "source": [
    "# Histogram with smaller bins, 50, 20\n",
    "my_df['Thurs'].hist(bins=50)"
   ]
  },
  {
   "cell_type": "code",
   "execution_count": 5,
   "id": "acb82edb-2845-47d0-985f-7b62cb7d9c83",
   "metadata": {},
   "outputs": [
    {
     "data": {
      "text/plain": [
       "<Axes: ylabel='Frequency'>"
      ]
     },
     "execution_count": 5,
     "metadata": {},
     "output_type": "execute_result"
    },
    {
     "data": {
      "image/png": "[encoded data removed]",
      "text/plain": [
       "<Figure size 640x480 with 1 Axes>"
      ]
     },
     "metadata": {},
     "output_type": "display_data"
    }
   ],
   "source": [
    "# Another way without grid bars\n",
    "my_df['Thurs'].plot(kind=\"hist\",bins=100)"
   ]
  },
  {
   "cell_type": "code",
   "execution_count": null,
   "id": "14d59147-b73a-48f2-9f78-818e0e8b771a",
   "metadata": {},
   "outputs": [],
   "source": []
  }
 ],
 "metadata": {
  "kernelspec": {
   "display_name": "Python 3 (ipykernel)",
   "language": "python",
   "name": "python3"
  },
  "language_info": {
   "codemirror_mode": {
    "name": "ipython",
    "version": 3
   },
   "file_extension": ".py",
   "mimetype": "text/x-python",
   "name": "python",
   "nbconvert_exporter": "python",
   "pygments_lexer": "ipython3",
   "version": "3.12.5"
  }
 },
 "nbformat": 4,
 "nbformat_minor": 5
}
