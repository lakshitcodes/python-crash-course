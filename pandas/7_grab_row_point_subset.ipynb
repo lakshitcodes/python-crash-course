{
 "cells": [
  {
   "cell_type": "code",
   "execution_count": 1,
   "id": "f68475d0-8729-495c-b29b-7ff0cb0b51f3",
   "metadata": {},
   "outputs": [
    {
     "data": {
      "text/html": [
       "<div>\n",
       "<style scoped>\n",
       "    .dataframe tbody tr th:only-of-type {\n",
       "        vertical-align: middle;\n",
       "    }\n",
       "\n",
       "    .dataframe tbody tr th {\n",
       "        vertical-align: top;\n",
       "    }\n",
       "\n",
       "    .dataframe thead th {\n",
       "        text-align: right;\n",
       "    }\n",
       "</style>\n",
       "<table border=\"1\" class=\"dataframe\">\n",
       "  <thead>\n",
       "    <tr style=\"text-align: right;\">\n",
       "      <th></th>\n",
       "      <th>Name</th>\n",
       "      <th>HEX</th>\n",
       "      <th>RGB</th>\n",
       "    </tr>\n",
       "  </thead>\n",
       "  <tbody>\n",
       "    <tr>\n",
       "      <th>0</th>\n",
       "      <td>White</td>\n",
       "      <td>#FFFFFF</td>\n",
       "      <td>rgb(100,100,100)</td>\n",
       "    </tr>\n",
       "    <tr>\n",
       "      <th>1</th>\n",
       "      <td>Silver</td>\n",
       "      <td>#C0C0C0</td>\n",
       "      <td>rgb(75,75,75)</td>\n",
       "    </tr>\n",
       "    <tr>\n",
       "      <th>2</th>\n",
       "      <td>Gray</td>\n",
       "      <td>#808080</td>\n",
       "      <td>rgb(50,50,50)</td>\n",
       "    </tr>\n",
       "    <tr>\n",
       "      <th>3</th>\n",
       "      <td>Black</td>\n",
       "      <td>#000000</td>\n",
       "      <td>rgb(0,0,0)</td>\n",
       "    </tr>\n",
       "    <tr>\n",
       "      <th>4</th>\n",
       "      <td>Red</td>\n",
       "      <td>#FF0000</td>\n",
       "      <td>rgb(100,0,0)</td>\n",
       "    </tr>\n",
       "    <tr>\n",
       "      <th>5</th>\n",
       "      <td>Maroon</td>\n",
       "      <td>#800000</td>\n",
       "      <td>rgb(50,0,0)</td>\n",
       "    </tr>\n",
       "    <tr>\n",
       "      <th>6</th>\n",
       "      <td>Yellow</td>\n",
       "      <td>#FFFF00</td>\n",
       "      <td>rgb(100,100,0)</td>\n",
       "    </tr>\n",
       "    <tr>\n",
       "      <th>7</th>\n",
       "      <td>Olive</td>\n",
       "      <td>#808000</td>\n",
       "      <td>rgb(50,50,0)</td>\n",
       "    </tr>\n",
       "    <tr>\n",
       "      <th>8</th>\n",
       "      <td>Lime</td>\n",
       "      <td>#00FF00</td>\n",
       "      <td>rgb(0,100,0)</td>\n",
       "    </tr>\n",
       "    <tr>\n",
       "      <th>9</th>\n",
       "      <td>Green</td>\n",
       "      <td>#008000</td>\n",
       "      <td>rgb(0,50,0)</td>\n",
       "    </tr>\n",
       "    <tr>\n",
       "      <th>10</th>\n",
       "      <td>Aqua</td>\n",
       "      <td>#00FFFF</td>\n",
       "      <td>rgb(0,100,100)</td>\n",
       "    </tr>\n",
       "    <tr>\n",
       "      <th>11</th>\n",
       "      <td>Teal</td>\n",
       "      <td>#008080</td>\n",
       "      <td>rgb(0,50,50)</td>\n",
       "    </tr>\n",
       "    <tr>\n",
       "      <th>12</th>\n",
       "      <td>Blue</td>\n",
       "      <td>#0000FF</td>\n",
       "      <td>rgb(0,0,100)</td>\n",
       "    </tr>\n",
       "    <tr>\n",
       "      <th>13</th>\n",
       "      <td>Navy</td>\n",
       "      <td>#000080</td>\n",
       "      <td>rgb(0,0,50)</td>\n",
       "    </tr>\n",
       "    <tr>\n",
       "      <th>14</th>\n",
       "      <td>Fuchsia</td>\n",
       "      <td>#FF00FF</td>\n",
       "      <td>rgb(100,0,100)</td>\n",
       "    </tr>\n",
       "    <tr>\n",
       "      <th>15</th>\n",
       "      <td>Purple</td>\n",
       "      <td>#800080</td>\n",
       "      <td>rgb(50,0,50)</td>\n",
       "    </tr>\n",
       "    <tr>\n",
       "      <th>16</th>\n",
       "      <td>NaN</td>\n",
       "      <td>#584858</td>\n",
       "      <td>rgb(45,3,23)</td>\n",
       "    </tr>\n",
       "  </tbody>\n",
       "</table>\n",
       "</div>"
      ],
      "text/plain": [
       "       Name      HEX               RGB\n",
       "0     White  #FFFFFF  rgb(100,100,100)\n",
       "1    Silver  #C0C0C0     rgb(75,75,75)\n",
       "2      Gray  #808080     rgb(50,50,50)\n",
       "3     Black  #000000        rgb(0,0,0)\n",
       "4       Red  #FF0000      rgb(100,0,0)\n",
       "5    Maroon  #800000       rgb(50,0,0)\n",
       "6    Yellow  #FFFF00    rgb(100,100,0)\n",
       "7     Olive  #808000      rgb(50,50,0)\n",
       "8      Lime  #00FF00      rgb(0,100,0)\n",
       "9     Green  #008000       rgb(0,50,0)\n",
       "10     Aqua  #00FFFF    rgb(0,100,100)\n",
       "11     Teal  #008080      rgb(0,50,50)\n",
       "12     Blue  #0000FF      rgb(0,0,100)\n",
       "13     Navy  #000080       rgb(0,0,50)\n",
       "14  Fuchsia  #FF00FF    rgb(100,0,100)\n",
       "15   Purple  #800080      rgb(50,0,50)\n",
       "16      NaN  #584858      rgb(45,3,23)"
      ]
     },
     "execution_count": 1,
     "metadata": {},
     "output_type": "execute_result"
    }
   ],
   "source": [
    "import pandas as pd\n",
    "import numpy as np\n",
    "#  import csv file\n",
    "my_df = pd.read_csv(\"sample_data.csv\")\n",
    "my_df"
   ]
  },
  {
   "cell_type": "code",
   "execution_count": 2,
   "id": "c526195d-f95a-4980-8c51-a613e21689b5",
   "metadata": {},
   "outputs": [
    {
     "data": {
      "text/plain": [
       "Name         Maroon\n",
       "HEX         #800000\n",
       "RGB     rgb(50,0,0)\n",
       "Name: 5, dtype: object"
      ]
     },
     "execution_count": 2,
     "metadata": {},
     "output_type": "execute_result"
    }
   ],
   "source": [
    "# Grab Row - Method 1 location\n",
    "my_df.loc[5]"
   ]
  },
  {
   "cell_type": "code",
   "execution_count": 3,
   "id": "07c1a844-fa04-4178-ade9-12016ca776e2",
   "metadata": {},
   "outputs": [
    {
     "data": {
      "text/plain": [
       "Name         Black\n",
       "HEX        #000000\n",
       "RGB     rgb(0,0,0)\n",
       "Name: 3, dtype: object"
      ]
     },
     "execution_count": 3,
     "metadata": {},
     "output_type": "execute_result"
    }
   ],
   "source": [
    "# Grab Row - Method 2 index location\n",
    "my_df.iloc[3]"
   ]
  },
  {
   "cell_type": "code",
   "execution_count": 5,
   "id": "43974f5e-85e6-4686-b7f5-4d7cee46c7a3",
   "metadata": {},
   "outputs": [
    {
     "data": {
      "text/plain": [
       "'Maroon'"
      ]
     },
     "execution_count": 5,
     "metadata": {},
     "output_type": "execute_result"
    }
   ],
   "source": [
    "# Specific Points (row and column)\n",
    "# my_df.loc['row','column']\n",
    "my_df.loc[5,'Name']"
   ]
  },
  {
   "cell_type": "code",
   "execution_count": 7,
   "id": "0f5e03e5-e79b-4eb5-8a31-f95064dc5841",
   "metadata": {},
   "outputs": [
    {
     "data": {
      "text/html": [
       "<div>\n",
       "<style scoped>\n",
       "    .dataframe tbody tr th:only-of-type {\n",
       "        vertical-align: middle;\n",
       "    }\n",
       "\n",
       "    .dataframe tbody tr th {\n",
       "        vertical-align: top;\n",
       "    }\n",
       "\n",
       "    .dataframe thead th {\n",
       "        text-align: right;\n",
       "    }\n",
       "</style>\n",
       "<table border=\"1\" class=\"dataframe\">\n",
       "  <thead>\n",
       "    <tr style=\"text-align: right;\">\n",
       "      <th></th>\n",
       "      <th>Name</th>\n",
       "      <th>RGB</th>\n",
       "    </tr>\n",
       "  </thead>\n",
       "  <tbody>\n",
       "    <tr>\n",
       "      <th>1</th>\n",
       "      <td>Silver</td>\n",
       "      <td>rgb(75,75,75)</td>\n",
       "    </tr>\n",
       "    <tr>\n",
       "      <th>3</th>\n",
       "      <td>Black</td>\n",
       "      <td>rgb(0,0,0)</td>\n",
       "    </tr>\n",
       "  </tbody>\n",
       "</table>\n",
       "</div>"
      ],
      "text/plain": [
       "     Name            RGB\n",
       "1  Silver  rgb(75,75,75)\n",
       "3   Black     rgb(0,0,0)"
      ]
     },
     "execution_count": 7,
     "metadata": {},
     "output_type": "execute_result"
    }
   ],
   "source": [
    "# Subsets\n",
    "# my_df.loc[['row','row'],['column','column']]\n",
    "my_df.loc[[1,3],['Name','RGB']]"
   ]
  },
  {
   "cell_type": "code",
   "execution_count": null,
   "id": "22b7e69d-b66e-4eae-9c6e-ec9a8a9cd638",
   "metadata": {},
   "outputs": [],
   "source": []
  }
 ],
 "metadata": {
  "kernelspec": {
   "display_name": "Python 3 (ipykernel)",
   "language": "python",
   "name": "python3"
  },
  "language_info": {
   "codemirror_mode": {
    "name": "ipython",
    "version": 3
   },
   "file_extension": ".py",
   "mimetype": "text/x-python",
   "name": "python",
   "nbconvert_exporter": "python",
   "pygments_lexer": "ipython3",
   "version": "3.12.5"
  }
 },
 "nbformat": 4,
 "nbformat_minor": 5
}
