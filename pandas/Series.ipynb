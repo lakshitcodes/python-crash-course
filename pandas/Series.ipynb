{
 "cells": [
  {
   "cell_type": "code",
   "execution_count": 1,
   "id": "b3a20013-f0d3-4a21-97ce-84aab47ccb33",
   "metadata": {},
   "outputs": [],
   "source": [
    "import pandas as pd\n",
    "import numpy as np"
   ]
  },
  {
   "cell_type": "code",
   "execution_count": 4,
   "id": "9aa17aa5-6604-4e5a-b579-a079ccd95d8f",
   "metadata": {},
   "outputs": [],
   "source": [
    "# Panda Series - Like a table column - 1 dimensional array holding any type of data"
   ]
  },
  {
   "cell_type": "code",
   "execution_count": 8,
   "id": "789eabee-0140-4c06-b996-91445bb41b2e",
   "metadata": {},
   "outputs": [
    {
     "data": {
      "text/plain": [
       "0     5\n",
       "1     9\n",
       "2    12\n",
       "3    27\n",
       "dtype: int64"
      ]
     },
     "execution_count": 8,
     "metadata": {},
     "output_type": "execute_result"
    }
   ],
   "source": [
    "mySeries = [5,9,12,27]\n",
    "my_var = pd.Series(mySeries)\n",
    "my_var"
   ]
  },
  {
   "cell_type": "code",
   "execution_count": 9,
   "id": "c11b54cc-d911-49e1-8843-45fb2aa970cb",
   "metadata": {},
   "outputs": [],
   "source": [
    "# Print specific values"
   ]
  },
  {
   "cell_type": "code",
   "execution_count": 10,
   "id": "19bf6d1d-349a-4368-ba60-ac67ba7abb71",
   "metadata": {},
   "outputs": [
    {
     "data": {
      "text/plain": [
       "np.int64(12)"
      ]
     },
     "execution_count": 10,
     "metadata": {},
     "output_type": "execute_result"
    }
   ],
   "source": [
    "my_var[2]"
   ]
  },
  {
   "cell_type": "code",
   "execution_count": 11,
   "id": "6e3f7d8f-782d-40a9-a5b2-5fd2bb3ab155",
   "metadata": {},
   "outputs": [],
   "source": [
    "# Labels using the index argument"
   ]
  },
  {
   "cell_type": "code",
   "execution_count": 24,
   "id": "13fa62e0-f4fb-4c23-b9de-d0a5d70a0768",
   "metadata": {},
   "outputs": [
    {
     "data": {
      "text/plain": [
       "A     5\n",
       "B     9\n",
       "C    12\n",
       "D    27\n",
       "dtype: int64"
      ]
     },
     "execution_count": 24,
     "metadata": {},
     "output_type": "execute_result"
    }
   ],
   "source": [
    "my_index = [\"A\",\"B\",\"C\",\"D\"]\n",
    "my_var2 = pd.Series(mySeries,my_index)\n",
    "my_var2\n"
   ]
  },
  {
   "cell_type": "code",
   "execution_count": 26,
   "id": "d97881c1-bc95-4b5a-86a6-b666a5eec73b",
   "metadata": {},
   "outputs": [
    {
     "data": {
      "text/plain": [
       "np.int64(5)"
      ]
     },
     "execution_count": 26,
     "metadata": {},
     "output_type": "execute_result"
    }
   ],
   "source": [
    "my_var2['A']"
   ]
  },
  {
   "cell_type": "code",
   "execution_count": 27,
   "id": "00a480cd-837a-4235-95a0-028f435b88f2",
   "metadata": {},
   "outputs": [],
   "source": [
    "# Key Value dictionary"
   ]
  },
  {
   "cell_type": "code",
   "execution_count": 28,
   "id": "15a80b4f-4109-4ee1-83a2-ce0e559d63fc",
   "metadata": {},
   "outputs": [
    {
     "data": {
      "text/plain": [
       "np.int64(34)"
      ]
     },
     "execution_count": 28,
     "metadata": {},
     "output_type": "execute_result"
    }
   ],
   "source": [
    "cars = {\"Porche\":23,\"BMW\":34,\"Bugatti\":2}\n",
    "my_var3 = pd.Series(cars)\n",
    "my_var3[\"BMW\"]"
   ]
  },
  {
   "cell_type": "raw",
   "id": "2f151705-b0a3-4a09-a1cd-532bce48aa2f",
   "metadata": {},
   "source": []
  }
 ],
 "metadata": {
  "kernelspec": {
   "display_name": "Python 3 (ipykernel)",
   "language": "python",
   "name": "python3"
  },
  "language_info": {
   "codemirror_mode": {
    "name": "ipython",
    "version": 3
   },
   "file_extension": ".py",
   "mimetype": "text/x-python",
   "name": "python",
   "nbconvert_exporter": "python",
   "pygments_lexer": "ipython3",
   "version": "3.12.5"
  }
 },
 "nbformat": 4,
 "nbformat_minor": 5
}
