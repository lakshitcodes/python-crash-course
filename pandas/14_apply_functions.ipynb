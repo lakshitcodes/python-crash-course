{
 "cells": [
  {
   "cell_type": "code",
   "execution_count": 1,
   "id": "85db6688-9e99-40d7-9802-966f2f4d01fd",
   "metadata": {},
   "outputs": [
    {
     "data": {
      "text/html": [
       "<div>\n",
       "<style scoped>\n",
       "    .dataframe tbody tr th:only-of-type {\n",
       "        vertical-align: middle;\n",
       "    }\n",
       "\n",
       "    .dataframe tbody tr th {\n",
       "        vertical-align: top;\n",
       "    }\n",
       "\n",
       "    .dataframe thead th {\n",
       "        text-align: right;\n",
       "    }\n",
       "</style>\n",
       "<table border=\"1\" class=\"dataframe\">\n",
       "  <thead>\n",
       "    <tr style=\"text-align: right;\">\n",
       "      <th></th>\n",
       "      <th>Corporation</th>\n",
       "      <th>Employees</th>\n",
       "      <th>Salary</th>\n",
       "    </tr>\n",
       "  </thead>\n",
       "  <tbody>\n",
       "    <tr>\n",
       "      <th>0</th>\n",
       "      <td>Apple</td>\n",
       "      <td>John</td>\n",
       "      <td>200</td>\n",
       "    </tr>\n",
       "    <tr>\n",
       "      <th>1</th>\n",
       "      <td>Google</td>\n",
       "      <td>April</td>\n",
       "      <td>220</td>\n",
       "    </tr>\n",
       "    <tr>\n",
       "      <th>2</th>\n",
       "      <td>Meta</td>\n",
       "      <td>Wes</td>\n",
       "      <td>190</td>\n",
       "    </tr>\n",
       "    <tr>\n",
       "      <th>3</th>\n",
       "      <td>Apple</td>\n",
       "      <td>Beth</td>\n",
       "      <td>130</td>\n",
       "    </tr>\n",
       "    <tr>\n",
       "      <th>4</th>\n",
       "      <td>Google</td>\n",
       "      <td>Justin</td>\n",
       "      <td>120</td>\n",
       "    </tr>\n",
       "    <tr>\n",
       "      <th>5</th>\n",
       "      <td>Meta</td>\n",
       "      <td>Steph</td>\n",
       "      <td>150</td>\n",
       "    </tr>\n",
       "  </tbody>\n",
       "</table>\n",
       "</div>"
      ],
      "text/plain": [
       "  Corporation Employees  Salary\n",
       "0       Apple      John     200\n",
       "1      Google     April     220\n",
       "2        Meta       Wes     190\n",
       "3       Apple      Beth     130\n",
       "4      Google    Justin     120\n",
       "5        Meta     Steph     150"
      ]
     },
     "execution_count": 1,
     "metadata": {},
     "output_type": "execute_result"
    }
   ],
   "source": [
    "import pandas as pd\n",
    "import numpy as np\n",
    "# Create data\n",
    "stuff = {\n",
    "    'Corporation' : ['Apple','Google','Meta','Apple','Google','Meta'],\n",
    "    'Employees' : ['John','April','Wes','Beth','Justin','Steph'],\n",
    "    'Salary' : [200,220,190,130,120,150]\n",
    "}\n",
    "# Create dataframe\n",
    "my_df = pd.DataFrame(stuff)\n",
    "my_df"
   ]
  },
  {
   "cell_type": "code",
   "execution_count": 2,
   "id": "6f001463-c2e8-4e4d-950f-324ff72c06dc",
   "metadata": {},
   "outputs": [],
   "source": [
    "# Create function\n",
    "def times1000(x):\n",
    "    return x*1000\n",
    "    # For adding commas\n",
    "    # return format(x*1000,\",d\")"
   ]
  },
  {
   "cell_type": "code",
   "execution_count": 4,
   "id": "d2da7182-8ec0-4910-a140-2fe6b5ef452d",
   "metadata": {},
   "outputs": [],
   "source": [
    "# Apply function\n",
    "my_df['Salary']=my_df[\"Salary\"].apply(times1000)"
   ]
  },
  {
   "cell_type": "code",
   "execution_count": null,
   "id": "183f0cf6-9c0b-4f4a-ba9c-bc160bdf6dfb",
   "metadata": {},
   "outputs": [],
   "source": [
    "my_df"
   ]
  },
  {
   "cell_type": "code",
   "execution_count": 6,
   "id": "8756bcc6-6450-4323-96a9-6e8d8b979cfc",
   "metadata": {},
   "outputs": [
    {
     "data": {
      "text/html": [
       "<div>\n",
       "<style scoped>\n",
       "    .dataframe tbody tr th:only-of-type {\n",
       "        vertical-align: middle;\n",
       "    }\n",
       "\n",
       "    .dataframe tbody tr th {\n",
       "        vertical-align: top;\n",
       "    }\n",
       "\n",
       "    .dataframe thead th {\n",
       "        text-align: right;\n",
       "    }\n",
       "</style>\n",
       "<table border=\"1\" class=\"dataframe\">\n",
       "  <thead>\n",
       "    <tr style=\"text-align: right;\">\n",
       "      <th></th>\n",
       "      <th>Salary</th>\n",
       "    </tr>\n",
       "  </thead>\n",
       "  <tbody>\n",
       "    <tr>\n",
       "      <th>0</th>\n",
       "      <td>200000000</td>\n",
       "    </tr>\n",
       "    <tr>\n",
       "      <th>1</th>\n",
       "      <td>220000000</td>\n",
       "    </tr>\n",
       "    <tr>\n",
       "      <th>2</th>\n",
       "      <td>190000000</td>\n",
       "    </tr>\n",
       "    <tr>\n",
       "      <th>3</th>\n",
       "      <td>130000000</td>\n",
       "    </tr>\n",
       "    <tr>\n",
       "      <th>4</th>\n",
       "      <td>120000000</td>\n",
       "    </tr>\n",
       "    <tr>\n",
       "      <th>5</th>\n",
       "      <td>150000000</td>\n",
       "    </tr>\n",
       "  </tbody>\n",
       "</table>\n",
       "</div>"
      ],
      "text/plain": [
       "      Salary\n",
       "0  200000000\n",
       "1  220000000\n",
       "2  190000000\n",
       "3  130000000\n",
       "4  120000000\n",
       "5  150000000"
      ]
     },
     "execution_count": 6,
     "metadata": {},
     "output_type": "execute_result"
    }
   ],
   "source": [
    "# Make it into a dataframe\n",
    "pd.DataFrame(my_df[\"Salary\"].apply(times1000))"
   ]
  },
  {
   "cell_type": "code",
   "execution_count": 7,
   "id": "817e9640-8b0d-4920-903c-9c8d0e2052b4",
   "metadata": {},
   "outputs": [],
   "source": [
    "# Add elder last name\n",
    "def namer(x):\n",
    "    if(x=='John'):\n",
    "        return \"John Elder\"\n",
    "    else:\n",
    "        return x"
   ]
  },
  {
   "cell_type": "code",
   "execution_count": 8,
   "id": "896d9e30-4070-46dc-8c46-aeacd0984a32",
   "metadata": {},
   "outputs": [
    {
     "data": {
      "text/plain": [
       "0    John Elder\n",
       "1         April\n",
       "2           Wes\n",
       "3          Beth\n",
       "4        Justin\n",
       "5         Steph\n",
       "Name: Employees, dtype: object"
      ]
     },
     "execution_count": 8,
     "metadata": {},
     "output_type": "execute_result"
    }
   ],
   "source": [
    "# Show Elder last name\n",
    "my_df[\"Employees\"].apply(namer)"
   ]
  },
  {
   "cell_type": "code",
   "execution_count": 10,
   "id": "db5ed8a6-0e99-43ac-a35e-a7d0e6adccb9",
   "metadata": {},
   "outputs": [
    {
     "data": {
      "text/plain": [
       "0    200,000,000\n",
       "1    220,000,000\n",
       "2    190,000,000\n",
       "3    130,000,000\n",
       "4    120,000,000\n",
       "5    150,000,000\n",
       "Name: Salary, dtype: object"
      ]
     },
     "execution_count": 10,
     "metadata": {},
     "output_type": "execute_result"
    }
   ],
   "source": [
    "# Use Lambda\n",
    "my_df[\"Salary\"].apply(lambda x: format(x*1000,\",d\"))"
   ]
  },
  {
   "cell_type": "code",
   "execution_count": null,
   "id": "32747e71-d007-4351-a508-6d92d22f4692",
   "metadata": {},
   "outputs": [],
   "source": []
  }
 ],
 "metadata": {
  "kernelspec": {
   "display_name": "Python 3 (ipykernel)",
   "language": "python",
   "name": "python3"
  },
  "language_info": {
   "codemirror_mode": {
    "name": "ipython",
    "version": 3
   },
   "file_extension": ".py",
   "mimetype": "text/x-python",
   "name": "python",
   "nbconvert_exporter": "python",
   "pygments_lexer": "ipython3",
   "version": "3.12.5"
  }
 },
 "nbformat": 4,
 "nbformat_minor": 5
}
